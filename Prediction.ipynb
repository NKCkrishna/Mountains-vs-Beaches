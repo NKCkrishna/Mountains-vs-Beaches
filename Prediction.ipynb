{
 "cells": [
  {
   "cell_type": "markdown",
   "metadata": {},
   "source": [
    "# Import Libraries "
   ]
  },
  {
   "cell_type": "code",
   "execution_count": 1,
   "metadata": {},
   "outputs": [],
   "source": [
    "import pandas as pd\n",
    "import matplotlib.pyplot as plt\n",
    "from sklearn.preprocessing import LabelEncoder\n",
    "from sklearn.neighbors import KNeighborsClassifier\n",
    "from sklearn.model_selection import train_test_split\n",
    "from sklearn.linear_model import LogisticRegression\n",
    "from sklearn.preprocessing import StandardScaler\n",
    "from sklearn.metrics import confusion_matrix, precision_score,recall_score,accuracy_score\n",
    "from sklearn.model_selection import cross_val_score\n",
    "from sklearn.pipeline import Pipeline\n",
    "from sklearn.base import BaseEstimator, TransformerMixin"
   ]
  },
  {
   "cell_type": "markdown",
   "metadata": {},
   "source": [
    "# Load Dataset"
   ]
  },
  {
   "cell_type": "code",
   "execution_count": 3,
   "metadata": {},
   "outputs": [
    {
     "data": {
      "text/html": [
       "<div>\n",
       "<style scoped>\n",
       "    .dataframe tbody tr th:only-of-type {\n",
       "        vertical-align: middle;\n",
       "    }\n",
       "\n",
       "    .dataframe tbody tr th {\n",
       "        vertical-align: top;\n",
       "    }\n",
       "\n",
       "    .dataframe thead th {\n",
       "        text-align: right;\n",
       "    }\n",
       "</style>\n",
       "<table border=\"1\" class=\"dataframe\">\n",
       "  <thead>\n",
       "    <tr style=\"text-align: right;\">\n",
       "      <th></th>\n",
       "      <th>Age</th>\n",
       "      <th>Gender</th>\n",
       "      <th>Income</th>\n",
       "      <th>Education_Level</th>\n",
       "      <th>Travel_Frequency</th>\n",
       "      <th>Preferred_Activities</th>\n",
       "      <th>Vacation_Budget</th>\n",
       "      <th>Location</th>\n",
       "      <th>Proximity_to_Mountains</th>\n",
       "      <th>Proximity_to_Beaches</th>\n",
       "      <th>Favorite_Season</th>\n",
       "      <th>Pets</th>\n",
       "      <th>Environmental_Concerns</th>\n",
       "      <th>Preference</th>\n",
       "    </tr>\n",
       "  </thead>\n",
       "  <tbody>\n",
       "    <tr>\n",
       "      <th>0</th>\n",
       "      <td>56</td>\n",
       "      <td>male</td>\n",
       "      <td>71477</td>\n",
       "      <td>bachelor</td>\n",
       "      <td>9</td>\n",
       "      <td>skiing</td>\n",
       "      <td>2477</td>\n",
       "      <td>urban</td>\n",
       "      <td>175</td>\n",
       "      <td>267</td>\n",
       "      <td>summer</td>\n",
       "      <td>0</td>\n",
       "      <td>1</td>\n",
       "      <td>1</td>\n",
       "    </tr>\n",
       "    <tr>\n",
       "      <th>1</th>\n",
       "      <td>69</td>\n",
       "      <td>male</td>\n",
       "      <td>88740</td>\n",
       "      <td>master</td>\n",
       "      <td>1</td>\n",
       "      <td>swimming</td>\n",
       "      <td>4777</td>\n",
       "      <td>suburban</td>\n",
       "      <td>228</td>\n",
       "      <td>190</td>\n",
       "      <td>fall</td>\n",
       "      <td>0</td>\n",
       "      <td>1</td>\n",
       "      <td>0</td>\n",
       "    </tr>\n",
       "    <tr>\n",
       "      <th>2</th>\n",
       "      <td>46</td>\n",
       "      <td>female</td>\n",
       "      <td>46562</td>\n",
       "      <td>master</td>\n",
       "      <td>0</td>\n",
       "      <td>skiing</td>\n",
       "      <td>1469</td>\n",
       "      <td>urban</td>\n",
       "      <td>71</td>\n",
       "      <td>280</td>\n",
       "      <td>winter</td>\n",
       "      <td>0</td>\n",
       "      <td>0</td>\n",
       "      <td>1</td>\n",
       "    </tr>\n",
       "    <tr>\n",
       "      <th>3</th>\n",
       "      <td>32</td>\n",
       "      <td>non-binary</td>\n",
       "      <td>99044</td>\n",
       "      <td>high school</td>\n",
       "      <td>6</td>\n",
       "      <td>hiking</td>\n",
       "      <td>1482</td>\n",
       "      <td>rural</td>\n",
       "      <td>31</td>\n",
       "      <td>255</td>\n",
       "      <td>summer</td>\n",
       "      <td>1</td>\n",
       "      <td>0</td>\n",
       "      <td>1</td>\n",
       "    </tr>\n",
       "    <tr>\n",
       "      <th>4</th>\n",
       "      <td>60</td>\n",
       "      <td>female</td>\n",
       "      <td>106583</td>\n",
       "      <td>high school</td>\n",
       "      <td>5</td>\n",
       "      <td>sunbathing</td>\n",
       "      <td>516</td>\n",
       "      <td>suburban</td>\n",
       "      <td>23</td>\n",
       "      <td>151</td>\n",
       "      <td>winter</td>\n",
       "      <td>1</td>\n",
       "      <td>1</td>\n",
       "      <td>0</td>\n",
       "    </tr>\n",
       "  </tbody>\n",
       "</table>\n",
       "</div>"
      ],
      "text/plain": [
       "   Age      Gender  Income Education_Level  Travel_Frequency  \\\n",
       "0   56        male   71477        bachelor                 9   \n",
       "1   69        male   88740          master                 1   \n",
       "2   46      female   46562          master                 0   \n",
       "3   32  non-binary   99044     high school                 6   \n",
       "4   60      female  106583     high school                 5   \n",
       "\n",
       "  Preferred_Activities  Vacation_Budget  Location  Proximity_to_Mountains  \\\n",
       "0               skiing             2477     urban                     175   \n",
       "1             swimming             4777  suburban                     228   \n",
       "2               skiing             1469     urban                      71   \n",
       "3               hiking             1482     rural                      31   \n",
       "4           sunbathing              516  suburban                      23   \n",
       "\n",
       "   Proximity_to_Beaches Favorite_Season  Pets  Environmental_Concerns  \\\n",
       "0                   267          summer     0                       1   \n",
       "1                   190            fall     0                       1   \n",
       "2                   280          winter     0                       0   \n",
       "3                   255          summer     1                       0   \n",
       "4                   151          winter     1                       1   \n",
       "\n",
       "   Preference  \n",
       "0           1  \n",
       "1           0  \n",
       "2           1  \n",
       "3           1  \n",
       "4           0  "
      ]
     },
     "execution_count": 3,
     "metadata": {},
     "output_type": "execute_result"
    }
   ],
   "source": [
    "df = pd.read_csv('mountains_vs_beaches_preferences.csv')\n",
    "df.head()"
   ]
  },
  {
   "cell_type": "code",
   "execution_count": 4,
   "metadata": {},
   "outputs": [
    {
     "name": "stdout",
     "output_type": "stream",
     "text": [
      "<class 'pandas.core.frame.DataFrame'>\n",
      "RangeIndex: 52444 entries, 0 to 52443\n",
      "Data columns (total 14 columns):\n",
      " #   Column                  Non-Null Count  Dtype \n",
      "---  ------                  --------------  ----- \n",
      " 0   Age                     52444 non-null  int64 \n",
      " 1   Gender                  52444 non-null  object\n",
      " 2   Income                  52444 non-null  int64 \n",
      " 3   Education_Level         52444 non-null  object\n",
      " 4   Travel_Frequency        52444 non-null  int64 \n",
      " 5   Preferred_Activities    52444 non-null  object\n",
      " 6   Vacation_Budget         52444 non-null  int64 \n",
      " 7   Location                52444 non-null  object\n",
      " 8   Proximity_to_Mountains  52444 non-null  int64 \n",
      " 9   Proximity_to_Beaches    52444 non-null  int64 \n",
      " 10  Favorite_Season         52444 non-null  object\n",
      " 11  Pets                    52444 non-null  int64 \n",
      " 12  Environmental_Concerns  52444 non-null  int64 \n",
      " 13  Preference              52444 non-null  int64 \n",
      "dtypes: int64(9), object(5)\n",
      "memory usage: 5.6+ MB\n"
     ]
    }
   ],
   "source": [
    "df.info()"
   ]
  },
  {
   "cell_type": "markdown",
   "metadata": {},
   "source": [
    "# Data Preprocessing"
   ]
  },
  {
   "cell_type": "code",
   "execution_count": 5,
   "metadata": {},
   "outputs": [
    {
     "name": "stdout",
     "output_type": "stream",
     "text": [
      "Total duplicate rows: 0\n",
      "First 10 duplicate rows:\n",
      " Empty DataFrame\n",
      "Columns: [Age, Gender, Income, Education_Level, Travel_Frequency, Preferred_Activities, Vacation_Budget, Location, Proximity_to_Mountains, Proximity_to_Beaches, Favorite_Season, Pets, Environmental_Concerns, Preference]\n",
      "Index: []\n"
     ]
    }
   ],
   "source": [
    "duplicates = df[df.duplicated()]\n",
    "print(f\"Total duplicate rows: {len(duplicates)}\")\n",
    "print(\"First 10 duplicate rows:\\n\", duplicates.head(10))\n",
    "df.drop_duplicates(inplace=True)"
   ]
  },
  {
   "cell_type": "code",
   "execution_count": 6,
   "metadata": {},
   "outputs": [
    {
     "data": {
      "text/html": [
       "<div>\n",
       "<style scoped>\n",
       "    .dataframe tbody tr th:only-of-type {\n",
       "        vertical-align: middle;\n",
       "    }\n",
       "\n",
       "    .dataframe tbody tr th {\n",
       "        vertical-align: top;\n",
       "    }\n",
       "\n",
       "    .dataframe thead th {\n",
       "        text-align: right;\n",
       "    }\n",
       "</style>\n",
       "<table border=\"1\" class=\"dataframe\">\n",
       "  <thead>\n",
       "    <tr style=\"text-align: right;\">\n",
       "      <th></th>\n",
       "      <th>Age</th>\n",
       "      <th>Gender</th>\n",
       "      <th>Income</th>\n",
       "      <th>Education_Level</th>\n",
       "      <th>Travel_Frequency</th>\n",
       "      <th>Preferred_Activities</th>\n",
       "      <th>Vacation_Budget</th>\n",
       "      <th>Location</th>\n",
       "      <th>Proximity_to_Mountains</th>\n",
       "      <th>Proximity_to_Beaches</th>\n",
       "      <th>Favorite_Season</th>\n",
       "      <th>Pets</th>\n",
       "      <th>Environmental_Concerns</th>\n",
       "      <th>Preference</th>\n",
       "    </tr>\n",
       "  </thead>\n",
       "  <tbody>\n",
       "    <tr>\n",
       "      <th>0</th>\n",
       "      <td>56</td>\n",
       "      <td>male</td>\n",
       "      <td>71477</td>\n",
       "      <td>bachelor</td>\n",
       "      <td>9</td>\n",
       "      <td>skiing</td>\n",
       "      <td>2477</td>\n",
       "      <td>urban</td>\n",
       "      <td>175</td>\n",
       "      <td>267</td>\n",
       "      <td>summer</td>\n",
       "      <td>0</td>\n",
       "      <td>1</td>\n",
       "      <td>1</td>\n",
       "    </tr>\n",
       "    <tr>\n",
       "      <th>1</th>\n",
       "      <td>69</td>\n",
       "      <td>male</td>\n",
       "      <td>88740</td>\n",
       "      <td>master</td>\n",
       "      <td>1</td>\n",
       "      <td>swimming</td>\n",
       "      <td>4777</td>\n",
       "      <td>suburban</td>\n",
       "      <td>228</td>\n",
       "      <td>190</td>\n",
       "      <td>fall</td>\n",
       "      <td>0</td>\n",
       "      <td>1</td>\n",
       "      <td>0</td>\n",
       "    </tr>\n",
       "    <tr>\n",
       "      <th>2</th>\n",
       "      <td>46</td>\n",
       "      <td>female</td>\n",
       "      <td>46562</td>\n",
       "      <td>master</td>\n",
       "      <td>0</td>\n",
       "      <td>skiing</td>\n",
       "      <td>1469</td>\n",
       "      <td>urban</td>\n",
       "      <td>71</td>\n",
       "      <td>280</td>\n",
       "      <td>winter</td>\n",
       "      <td>0</td>\n",
       "      <td>0</td>\n",
       "      <td>1</td>\n",
       "    </tr>\n",
       "    <tr>\n",
       "      <th>3</th>\n",
       "      <td>32</td>\n",
       "      <td>non-binary</td>\n",
       "      <td>99044</td>\n",
       "      <td>high school</td>\n",
       "      <td>6</td>\n",
       "      <td>hiking</td>\n",
       "      <td>1482</td>\n",
       "      <td>rural</td>\n",
       "      <td>31</td>\n",
       "      <td>255</td>\n",
       "      <td>summer</td>\n",
       "      <td>1</td>\n",
       "      <td>0</td>\n",
       "      <td>1</td>\n",
       "    </tr>\n",
       "    <tr>\n",
       "      <th>4</th>\n",
       "      <td>60</td>\n",
       "      <td>female</td>\n",
       "      <td>106583</td>\n",
       "      <td>high school</td>\n",
       "      <td>5</td>\n",
       "      <td>sunbathing</td>\n",
       "      <td>516</td>\n",
       "      <td>suburban</td>\n",
       "      <td>23</td>\n",
       "      <td>151</td>\n",
       "      <td>winter</td>\n",
       "      <td>1</td>\n",
       "      <td>1</td>\n",
       "      <td>0</td>\n",
       "    </tr>\n",
       "    <tr>\n",
       "      <th>...</th>\n",
       "      <td>...</td>\n",
       "      <td>...</td>\n",
       "      <td>...</td>\n",
       "      <td>...</td>\n",
       "      <td>...</td>\n",
       "      <td>...</td>\n",
       "      <td>...</td>\n",
       "      <td>...</td>\n",
       "      <td>...</td>\n",
       "      <td>...</td>\n",
       "      <td>...</td>\n",
       "      <td>...</td>\n",
       "      <td>...</td>\n",
       "      <td>...</td>\n",
       "    </tr>\n",
       "    <tr>\n",
       "      <th>52439</th>\n",
       "      <td>67</td>\n",
       "      <td>female</td>\n",
       "      <td>85325</td>\n",
       "      <td>master</td>\n",
       "      <td>3</td>\n",
       "      <td>hiking</td>\n",
       "      <td>1762</td>\n",
       "      <td>suburban</td>\n",
       "      <td>51</td>\n",
       "      <td>262</td>\n",
       "      <td>fall</td>\n",
       "      <td>1</td>\n",
       "      <td>0</td>\n",
       "      <td>1</td>\n",
       "    </tr>\n",
       "    <tr>\n",
       "      <th>52440</th>\n",
       "      <td>37</td>\n",
       "      <td>female</td>\n",
       "      <td>110346</td>\n",
       "      <td>bachelor</td>\n",
       "      <td>7</td>\n",
       "      <td>swimming</td>\n",
       "      <td>1676</td>\n",
       "      <td>urban</td>\n",
       "      <td>259</td>\n",
       "      <td>84</td>\n",
       "      <td>spring</td>\n",
       "      <td>1</td>\n",
       "      <td>0</td>\n",
       "      <td>0</td>\n",
       "    </tr>\n",
       "    <tr>\n",
       "      <th>52441</th>\n",
       "      <td>53</td>\n",
       "      <td>non-binary</td>\n",
       "      <td>71080</td>\n",
       "      <td>doctorate</td>\n",
       "      <td>7</td>\n",
       "      <td>swimming</td>\n",
       "      <td>3877</td>\n",
       "      <td>urban</td>\n",
       "      <td>164</td>\n",
       "      <td>27</td>\n",
       "      <td>fall</td>\n",
       "      <td>0</td>\n",
       "      <td>1</td>\n",
       "      <td>0</td>\n",
       "    </tr>\n",
       "    <tr>\n",
       "      <th>52442</th>\n",
       "      <td>40</td>\n",
       "      <td>female</td>\n",
       "      <td>75174</td>\n",
       "      <td>doctorate</td>\n",
       "      <td>9</td>\n",
       "      <td>swimming</td>\n",
       "      <td>4620</td>\n",
       "      <td>suburban</td>\n",
       "      <td>173</td>\n",
       "      <td>10</td>\n",
       "      <td>summer</td>\n",
       "      <td>0</td>\n",
       "      <td>1</td>\n",
       "      <td>0</td>\n",
       "    </tr>\n",
       "    <tr>\n",
       "      <th>52443</th>\n",
       "      <td>33</td>\n",
       "      <td>non-binary</td>\n",
       "      <td>34475</td>\n",
       "      <td>master</td>\n",
       "      <td>6</td>\n",
       "      <td>hiking</td>\n",
       "      <td>928</td>\n",
       "      <td>suburban</td>\n",
       "      <td>218</td>\n",
       "      <td>166</td>\n",
       "      <td>spring</td>\n",
       "      <td>1</td>\n",
       "      <td>0</td>\n",
       "      <td>0</td>\n",
       "    </tr>\n",
       "  </tbody>\n",
       "</table>\n",
       "<p>52444 rows × 14 columns</p>\n",
       "</div>"
      ],
      "text/plain": [
       "       Age      Gender  Income Education_Level  Travel_Frequency  \\\n",
       "0       56        male   71477        bachelor                 9   \n",
       "1       69        male   88740          master                 1   \n",
       "2       46      female   46562          master                 0   \n",
       "3       32  non-binary   99044     high school                 6   \n",
       "4       60      female  106583     high school                 5   \n",
       "...    ...         ...     ...             ...               ...   \n",
       "52439   67      female   85325          master                 3   \n",
       "52440   37      female  110346        bachelor                 7   \n",
       "52441   53  non-binary   71080       doctorate                 7   \n",
       "52442   40      female   75174       doctorate                 9   \n",
       "52443   33  non-binary   34475          master                 6   \n",
       "\n",
       "      Preferred_Activities  Vacation_Budget  Location  Proximity_to_Mountains  \\\n",
       "0                   skiing             2477     urban                     175   \n",
       "1                 swimming             4777  suburban                     228   \n",
       "2                   skiing             1469     urban                      71   \n",
       "3                   hiking             1482     rural                      31   \n",
       "4               sunbathing              516  suburban                      23   \n",
       "...                    ...              ...       ...                     ...   \n",
       "52439               hiking             1762  suburban                      51   \n",
       "52440             swimming             1676     urban                     259   \n",
       "52441             swimming             3877     urban                     164   \n",
       "52442             swimming             4620  suburban                     173   \n",
       "52443               hiking              928  suburban                     218   \n",
       "\n",
       "       Proximity_to_Beaches Favorite_Season  Pets  Environmental_Concerns  \\\n",
       "0                       267          summer     0                       1   \n",
       "1                       190            fall     0                       1   \n",
       "2                       280          winter     0                       0   \n",
       "3                       255          summer     1                       0   \n",
       "4                       151          winter     1                       1   \n",
       "...                     ...             ...   ...                     ...   \n",
       "52439                   262            fall     1                       0   \n",
       "52440                    84          spring     1                       0   \n",
       "52441                    27            fall     0                       1   \n",
       "52442                    10          summer     0                       1   \n",
       "52443                   166          spring     1                       0   \n",
       "\n",
       "       Preference  \n",
       "0               1  \n",
       "1               0  \n",
       "2               1  \n",
       "3               1  \n",
       "4               0  \n",
       "...           ...  \n",
       "52439           1  \n",
       "52440           0  \n",
       "52441           0  \n",
       "52442           0  \n",
       "52443           0  \n",
       "\n",
       "[52444 rows x 14 columns]"
      ]
     },
     "execution_count": 6,
     "metadata": {},
     "output_type": "execute_result"
    }
   ],
   "source": [
    "df.dropna()\n",
    "df"
   ]
  },
  {
   "cell_type": "code",
   "execution_count": 7,
   "metadata": {},
   "outputs": [],
   "source": [
    "class Encoder(BaseEstimator, TransformerMixin):\n",
    "    \n",
    "    def __init__(self):\n",
    "        self.lst_drop_columns = ['Gender','Education_Level','Preferred_Activities','Location','Favorite_Season']\n",
    "        \n",
    "    def fit(self,X,y=None):\n",
    "    \n",
    "        return self\n",
    "    def transform(self,X,y=None):\n",
    "        X_ = X.copy()\n",
    "        # using labelencoder for tranforming the categorical variable into numerical\n",
    "        merge_lst = [\n",
    "            X_,\n",
    "            pd.get_dummies(X_).astype(int)\n",
    "        ]\n",
    "        X_ = pd.concat(merge_lst,axis=1)\n",
    "        X_.drop(self.lst_drop_columns,axis=1,inplace = True)\n",
    "        return X_"
   ]
  },
  {
   "cell_type": "markdown",
   "metadata": {},
   "source": [
    "# EDA - Exploratory Data Analysis"
   ]
  },
  {
   "cell_type": "code",
   "execution_count": 15,
   "metadata": {},
   "outputs": [
    {
     "name": "stderr",
     "output_type": "stream",
     "text": [
      "C:\\Users\\s\\AppData\\Local\\Temp\\ipykernel_11724\\3607737003.py:11: FutureWarning: \n",
      "\n",
      "Passing `palette` without assigning `hue` is deprecated and will be removed in v0.14.0. Assign the `x` variable to `hue` and set `legend=False` for the same effect.\n",
      "\n",
      "  sns.countplot(x=df[\"Preference\"], palette=[\"#3498db\", \"#e74c3c\"])\n"
     ]
    },
    {
     "data": {
      "image/png": "[encoded data removed]",
      "text/plain": [
       "<Figure size 1200x600 with 1 Axes>"
      ]
     },
     "metadata": {},
     "output_type": "display_data"
    }
   ],
   "source": [
    "import matplotlib.pyplot as plt\n",
    "import seaborn as sns\n",
    "\n",
    "# Set style\n",
    "sns.set_style(\"whitegrid\")\n",
    "\n",
    "# Figure size\n",
    "plt.figure(figsize=(12, 6))\n",
    "\n",
    "# Count plot for preference (target variable)\n",
    "sns.countplot(x=df[\"Preference\"], palette=[\"#3498db\", \"#e74c3c\"])\n",
    "plt.title(\"Beach vs Mountain Preference\")\n",
    "plt.xlabel(\"Preference (0: Beach, 1: Mountain)\")\n",
    "plt.ylabel(\"Count\")\n",
    "plt.show()"
   ]
  },
  {
   "cell_type": "code",
   "execution_count": 17,
   "metadata": {},
   "outputs": [
    {
     "name": "stderr",
     "output_type": "stream",
     "text": [
      "C:\\Users\\s\\AppData\\Local\\Temp\\ipykernel_11724\\548322394.py:3: FutureWarning: \n",
      "\n",
      "Passing `palette` without assigning `hue` is deprecated and will be removed in v0.14.0. Assign the `x` variable to `hue` and set `legend=False` for the same effect.\n",
      "\n",
      "  sns.boxplot(x=\"Preference\", y=\"Income\", data=df, palette=[\"#3498db\", \"#e74c3c\"])\n"
     ]
    },
    {
     "data": {
      "image/png": "[encoded data removed]",
      "text/plain": [
       "<Figure size 1200x600 with 1 Axes>"
      ]
     },
     "metadata": {},
     "output_type": "display_data"
    }
   ],
   "source": [
    "# Boxplot for Income vs Preference\n",
    "plt.figure(figsize=(12, 6))\n",
    "sns.boxplot(x=\"Preference\", y=\"Income\", data=df, palette=[\"#3498db\", \"#e74c3c\"])\n",
    "plt.title(\"Income vs Preference\")\n",
    "plt.xlabel(\"Preference (0: Beach, 1: Mountain)\")\n",
    "plt.ylabel(\"Income\")\n",
    "plt.show()"
   ]
  },
  {
   "cell_type": "code",
   "execution_count": 18,
   "metadata": {},
   "outputs": [
    {
     "name": "stderr",
     "output_type": "stream",
     "text": [
      "C:\\Users\\s\\AppData\\Local\\Temp\\ipykernel_11724\\1871333558.py:3: FutureWarning: \n",
      "\n",
      "Passing `palette` without assigning `hue` is deprecated and will be removed in v0.14.0. Assign the `x` variable to `hue` and set `legend=False` for the same effect.\n",
      "\n",
      "  sns.boxplot(x=\"Preference\", y=\"Travel_Frequency\", data=df, palette=[\"#3498db\", \"#e74c3c\"])\n"
     ]
    },
    {
     "data": {
      "image/png": "[encoded data removed]",
      "text/plain": [
       "<Figure size 1200x600 with 1 Axes>"
      ]
     },
     "metadata": {},
     "output_type": "display_data"
    }
   ],
   "source": [
    "# Travel Frequency distribution based on preference\n",
    "plt.figure(figsize=(12, 6))\n",
    "sns.boxplot(x=\"Preference\", y=\"Travel_Frequency\", data=df, palette=[\"#3498db\", \"#e74c3c\"])\n",
    "plt.title(\"Travel Frequency vs Preference\")\n",
    "plt.xlabel(\"Preference (0: Beach, 1: Mountain)\")\n",
    "plt.ylabel(\"Travel Frequency\")\n",
    "plt.show()"
   ]
  },
  {
   "cell_type": "code",
   "execution_count": 19,
   "metadata": {},
   "outputs": [
    {
     "data": {
      "image/png": "[encoded data removed]",
      "text/plain": [
       "<Figure size 1200x600 with 1 Axes>"
      ]
     },
     "metadata": {},
     "output_type": "display_data"
    }
   ],
   "source": [
    "# Count plot for Favorite Season\n",
    "plt.figure(figsize=(12, 6))\n",
    "sns.countplot(x=\"Favorite_Season\", hue=\"Preference\", data=df, palette=[\"#3498db\", \"#e74c3c\"])\n",
    "plt.title(\"Favorite Season vs Preference\")\n",
    "plt.xlabel(\"Season\")\n",
    "plt.ylabel(\"Count\")\n",
    "plt.show()"
   ]
  },
  {
   "cell_type": "markdown",
   "metadata": {},
   "source": [
    "# Model Training"
   ]
  },
  {
   "cell_type": "code",
   "execution_count": 8,
   "metadata": {},
   "outputs": [],
   "source": [
    "X = df.drop(['Preference'],axis=1)\n",
    "y = df['Preference']\n",
    "X_train,X_test,y_train,y_test = train_test_split(X,y,test_size=0.2,random_state=2)"
   ]
  },
  {
   "cell_type": "code",
   "execution_count": 9,
   "metadata": {},
   "outputs": [
    {
     "data": {
      "text/plain": [
       "(41955, 13)"
      ]
     },
     "execution_count": 9,
     "metadata": {},
     "output_type": "execute_result"
    }
   ],
   "source": [
    "X_train.shape"
   ]
  },
  {
   "cell_type": "code",
   "execution_count": null,
   "metadata": {},
   "outputs": [],
   "source": [
    "encoder = Encoder()\n",
    "knn_pipeline1 = Pipeline([\n",
    "    ('encoder',Encoder()),\n",
    "    ('knn',KNeighborsClassifier(n_neighbors=5))\n",
    "])"
   ]
  },
  {
   "cell_type": "code",
   "execution_count": 11,
   "metadata": {},
   "outputs": [
    {
     "name": "stdout",
     "output_type": "stream",
     "text": [
      "the accuracy without standard scaler of knn is 0.7247592716178854\n"
     ]
    }
   ],
   "source": [
    "knn_pipeline1.fit(X_train,y_train)\n",
    "y_pred = knn_pipeline1.predict(X_test)\n",
    "print(f'the accuracy without standard scaler of knn is {accuracy_score(y_test,y_pred)}')"
   ]
  },
  {
   "cell_type": "code",
   "execution_count": 12,
   "metadata": {},
   "outputs": [
    {
     "name": "stdout",
     "output_type": "stream",
     "text": [
      "the accuracy with standard scaler of knn is 0.9165792735246449\n"
     ]
    }
   ],
   "source": [
    "knn_pipeline2 = Pipeline([\n",
    "    ('encoder',Encoder()),\n",
    "    ('Standard',StandardScaler()),\n",
    "    ('knn',KNeighborsClassifier(n_neighbors=5))\n",
    "])\n",
    "\n",
    "knn_pipeline2.fit(X_train,y_train)\n",
    "y_pred = knn_pipeline2.predict(X_test)\n",
    "print(f'the accuracy with standard scaler of knn is {accuracy_score(y_test,y_pred)}')"
   ]
  },
  {
   "cell_type": "code",
   "execution_count": 13,
   "metadata": {},
   "outputs": [
    {
     "name": "stdout",
     "output_type": "stream",
     "text": [
      "the accuracy without standard scaler of Logistic is 0.7750023834493278\n",
      "the precison without standard scaler of Logistic is 0.5738666666666666\n",
      "the recall without standard scaler of Logistic is 0.40803943875616233\n"
     ]
    },
    {
     "name": "stderr",
     "output_type": "stream",
     "text": [
      "C:\\Users\\s\\AppData\\Roaming\\Python\\Python312\\site-packages\\sklearn\\linear_model\\_logistic.py:469: ConvergenceWarning: lbfgs failed to converge (status=1):\n",
      "STOP: TOTAL NO. of ITERATIONS REACHED LIMIT.\n",
      "\n",
      "Increase the number of iterations (max_iter) or scale the data as shown in:\n",
      "    https://scikit-learn.org/stable/modules/preprocessing.html\n",
      "Please also refer to the documentation for alternative solver options:\n",
      "    https://scikit-learn.org/stable/modules/linear_model.html#logistic-regression\n",
      "  n_iter_i = _check_optimize_result(\n"
     ]
    }
   ],
   "source": [
    "logistic_pipeline1 = Pipeline([\n",
    "    ('encoder',Encoder()),\n",
    "    ('LogisticReg',LogisticRegression(penalty='l2'))\n",
    "])\n",
    "logistic_pipeline1.fit(X_train,y_train)\n",
    "y_pred = logistic_pipeline1.predict(X_test)\n",
    "print(f'the accuracy without standard scaler of Logistic is {accuracy_score(y_test,y_pred)}')\n",
    "print(f'the precison without standard scaler of Logistic is {precision_score(y_test,y_pred)}')\n",
    "print(f'the recall without standard scaler of Logistic is {recall_score(y_test,y_pred)}')"
   ]
  },
  {
   "cell_type": "code",
   "execution_count": 14,
   "metadata": {},
   "outputs": [
    {
     "name": "stdout",
     "output_type": "stream",
     "text": [
      "the accuracy with standard scaler of Logistic is 0.9986652683763944\n",
      "the precison with standard scaler of Logistic is 0.9992386752950133\n",
      "the recall with standard scaler of Logistic is 0.9954493742889647\n"
     ]
    }
   ],
   "source": [
    "logistic_pipeline2 = Pipeline([\n",
    "    ('encoder',Encoder()),\n",
    "    ('Standard',StandardScaler()),\n",
    "    ('LogisticReg',LogisticRegression(penalty='l2'))\n",
    "])\n",
    "logistic_pipeline2.fit(X_train,y_train)\n",
    "y_pred = logistic_pipeline2.predict(X_test)\n",
    "print(f'the accuracy with standard scaler of Logistic is {accuracy_score(y_test,y_pred)}')\n",
    "print(f'the precison with standard scaler of Logistic is {precision_score(y_test,y_pred)}')\n",
    "print(f'the recall with standard scaler of Logistic is {recall_score(y_test,y_pred)}')"
   ]
  }
 ],
 "metadata": {
  "kernelspec": {
   "display_name": "Python 3",
   "language": "python",
   "name": "python3"
  },
  "language_info": {
   "codemirror_mode": {
    "name": "ipython",
    "version": 3
   },
   "file_extension": ".py",
   "mimetype": "text/x-python",
   "name": "python",
   "nbconvert_exporter": "python",
   "pygments_lexer": "ipython3",
   "version": "3.12.4"
  }
 },
 "nbformat": 4,
 "nbformat_minor": 2
}
